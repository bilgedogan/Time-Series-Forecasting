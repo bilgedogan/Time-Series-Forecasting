{
 "cells": [
  {
   "cell_type": "code",
   "execution_count": 1,
   "id": "829370ae",
   "metadata": {},
   "outputs": [],
   "source": [
    "# import required libraries\n",
    "\n",
    "# data preprocessing\n",
    "import pandas as pd\n",
    "import numpy as np\n",
    "from datetime import datetime\n",
    "\n",
    "from sklearn.preprocessing import MinMaxScaler\n",
    "from sklearn.metrics import mean_squared_error\n",
    "from sklearn.ensemble import IsolationForest\n",
    "\n",
    "# visualization\n",
    "from matplotlib import pyplot as plt\n",
    "%matplotlib inline \n",
    "plt.rcParams['figure.figsize'] = (15.0, 6.0)\n",
    "\n",
    "# implementing deep learning model\n",
    "import tensorflow as ts\n",
    "from tensorflow.keras import Model\n",
    "from tensorflow.keras.models import Sequential\n",
    "from tensorflow.keras.layers import Dense, Dropout,Input\n",
    "from tensorflow.keras.layers import LSTM\n",
    "from tensorflow.keras.constraints import MaxNorm\n",
    "from tensorflow.keras.optimizers import Adam\n",
    "\n",
    "# ignore warnings\n",
    "import warnings\n",
    "warnings.filterwarnings('ignore')\n",
    "\n",
    "from tensorflow.keras.models import load_model "
   ]
  },
  {
   "cell_type": "code",
   "execution_count": 2,
   "id": "cca604b9",
   "metadata": {},
   "outputs": [],
   "source": [
    "def split_sequences(sequences, n_steps_in, n_steps_out):\n",
    "    X, y = list(), list()\n",
    "    for i in range(0,len(sequences),n_steps_out):\n",
    "        # find the end of this pattern\n",
    "        end_ix = i + n_steps_in\n",
    "        out_end_ix = end_ix + n_steps_out\n",
    "        # check if we are beyond the dataset\n",
    "        if out_end_ix > len(sequences):\n",
    "            break\n",
    "        # gather input and output parts of the pattern\n",
    "        seq_x, seq_y = sequences[i:end_ix, :], sequences[end_ix:out_end_ix, :]\n",
    "        X.append(seq_x)\n",
    "        y.append(seq_y)\n",
    "    return np.array(X), np.array(y)"
   ]
  },
  {
   "cell_type": "code",
   "execution_count": 3,
   "id": "90a1b276",
   "metadata": {},
   "outputs": [],
   "source": [
    "data = np.array([['a','b','c'],\n",
    "        ['d','e','f'],\n",
    "        ['g','h','i'],\n",
    "        ['j','k','l'],\n",
    "        ['m','n','o'],\n",
    "        ['p','q','r'],\n",
    "        ['s','t','u'],\n",
    "        ['v','w','x'],\n",
    "        ['y','z','@']])"
   ]
  },
  {
   "cell_type": "code",
   "execution_count": 4,
   "id": "6312d425",
   "metadata": {},
   "outputs": [],
   "source": [
    "n_steps_in = 3\n",
    "n_steps_out = 2\n",
    "n_features = 3\n",
    "X_data, y_data = split_sequences(data,n_steps_in,n_steps_out)"
   ]
  },
  {
   "cell_type": "code",
   "execution_count": 5,
   "id": "b3db5a11",
   "metadata": {},
   "outputs": [
    {
     "name": "stdout",
     "output_type": "stream",
     "text": [
      "-------- X --------\n"
     ]
    },
    {
     "data": {
      "text/plain": [
       "array([[['a', 'b', 'c'],\n",
       "        ['d', 'e', 'f'],\n",
       "        ['g', 'h', 'i']],\n",
       "\n",
       "       [['g', 'h', 'i'],\n",
       "        ['j', 'k', 'l'],\n",
       "        ['m', 'n', 'o']],\n",
       "\n",
       "       [['m', 'n', 'o'],\n",
       "        ['p', 'q', 'r'],\n",
       "        ['s', 't', 'u']]], dtype='<U1')"
      ]
     },
     "metadata": {},
     "output_type": "display_data"
    },
    {
     "name": "stdout",
     "output_type": "stream",
     "text": [
      "-------- y --------\n"
     ]
    },
    {
     "data": {
      "text/plain": [
       "array([[['j', 'k', 'l'],\n",
       "        ['m', 'n', 'o']],\n",
       "\n",
       "       [['p', 'q', 'r'],\n",
       "        ['s', 't', 'u']],\n",
       "\n",
       "       [['v', 'w', 'x'],\n",
       "        ['y', 'z', '@']]], dtype='<U1')"
      ]
     },
     "metadata": {},
     "output_type": "display_data"
    }
   ],
   "source": [
    "print(\"-------- X --------\")\n",
    "display(X_data)\n",
    "print(\"-------- y --------\")\n",
    "display(y_data)\n"
   ]
  },
  {
   "cell_type": "code",
   "execution_count": 6,
   "id": "51c76542",
   "metadata": {},
   "outputs": [],
   "source": [
    "def split_sequences2(sequences, n_steps_in, n_steps_out):\n",
    "    X, y = list(), list()\n",
    "    for i in range(len(sequences)):\n",
    "        # find the end of this pattern\n",
    "        end_ix = i + n_steps_in\n",
    "        out_end_ix = end_ix + n_steps_out\n",
    "        # check if we are beyond the dataset\n",
    "        if out_end_ix > len(sequences):\n",
    "            break\n",
    "        # gather input and output parts of the pattern\n",
    "        seq_x, seq_y = sequences[i:end_ix, :], sequences[end_ix:out_end_ix, :]\n",
    "        X.append(seq_x)\n",
    "        y.append(seq_y)\n",
    "    return np.array(X), np.array(y)"
   ]
  },
  {
   "cell_type": "code",
   "execution_count": 7,
   "id": "05265819",
   "metadata": {},
   "outputs": [
    {
     "name": "stdout",
     "output_type": "stream",
     "text": [
      "-------- X --------\n"
     ]
    },
    {
     "data": {
      "text/plain": [
       "array([[['a', 'b', 'c'],\n",
       "        ['d', 'e', 'f'],\n",
       "        ['g', 'h', 'i']],\n",
       "\n",
       "       [['d', 'e', 'f'],\n",
       "        ['g', 'h', 'i'],\n",
       "        ['j', 'k', 'l']],\n",
       "\n",
       "       [['g', 'h', 'i'],\n",
       "        ['j', 'k', 'l'],\n",
       "        ['m', 'n', 'o']],\n",
       "\n",
       "       [['j', 'k', 'l'],\n",
       "        ['m', 'n', 'o'],\n",
       "        ['p', 'q', 'r']],\n",
       "\n",
       "       [['m', 'n', 'o'],\n",
       "        ['p', 'q', 'r'],\n",
       "        ['s', 't', 'u']]], dtype='<U1')"
      ]
     },
     "metadata": {},
     "output_type": "display_data"
    },
    {
     "name": "stdout",
     "output_type": "stream",
     "text": [
      "-------- y --------\n"
     ]
    },
    {
     "data": {
      "text/plain": [
       "array([[['j', 'k', 'l'],\n",
       "        ['m', 'n', 'o']],\n",
       "\n",
       "       [['m', 'n', 'o'],\n",
       "        ['p', 'q', 'r']],\n",
       "\n",
       "       [['p', 'q', 'r'],\n",
       "        ['s', 't', 'u']],\n",
       "\n",
       "       [['s', 't', 'u'],\n",
       "        ['v', 'w', 'x']],\n",
       "\n",
       "       [['v', 'w', 'x'],\n",
       "        ['y', 'z', '@']]], dtype='<U1')"
      ]
     },
     "metadata": {},
     "output_type": "display_data"
    }
   ],
   "source": [
    "X_data2, y_data2 = split_sequences2(data,n_steps_in,n_steps_out)\n",
    "print(\"-------- X --------\")\n",
    "display(X_data2)\n",
    "print(\"-------- y --------\")\n",
    "display(y_data2)\n"
   ]
  }
 ],
 "metadata": {
  "kernelspec": {
   "display_name": "Python 3 (ipykernel)",
   "language": "python",
   "name": "python3"
  },
  "language_info": {
   "codemirror_mode": {
    "name": "ipython",
    "version": 3
   },
   "file_extension": ".py",
   "mimetype": "text/x-python",
   "name": "python",
   "nbconvert_exporter": "python",
   "pygments_lexer": "ipython3",
   "version": "3.9.10"
  }
 },
 "nbformat": 4,
 "nbformat_minor": 5
}
